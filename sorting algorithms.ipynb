{
 "cells": [
  {
   "cell_type": "code",
   "execution_count": 1,
   "id": "b4f83838",
   "metadata": {},
   "outputs": [],
   "source": [
    "import random\n",
    "in_list=list(range(100000))\n",
    "out_list=list(range(100000))\n",
    "random.shuffle(in_list)\n",
    "test8={\n",
    "    'input':{\n",
    "        'nums':in_list\n",
    "    },\n",
    "    'output':out_list\n",
    "}"
   ]
  },
  {
   "cell_type": "code",
   "execution_count": 2,
   "id": "8dbf7021",
   "metadata": {},
   "outputs": [],
   "source": [
    "def bubble_sort(nums):\n",
    "    #create a copy of the list to avoid changing it.\n",
    "    nums=list(nums)\n",
    "    for j in range(len(nums)-1):\n",
    "    #repeatthe process n-1 times\n",
    "        for i in range(len(nums)-1):\n",
    "             if nums[i]>nums[i+1]:\n",
    "            #swap the two elements\n",
    "                 nums[i],nums[i+1]=nums[i+1],nums[i]\n",
    "    #return the sorted list\n",
    "    return nums"
   ]
  },
  {
   "cell_type": "code",
   "execution_count": null,
   "id": "e20a0971",
   "metadata": {},
   "outputs": [],
   "source": [
    "nums8,output8=test8['input']['nums'],test8['output']\n",
    "#print('input',nums8)\n",
    "#print('expected output',output8)\n",
    "result8=bubble_sort(nums8)\n",
    "#print('Actual output',result8)\n",
    "print('match:',result8==output8)"
   ]
  },
  {
   "cell_type": "code",
   "execution_count": null,
   "id": "1c63d60c",
   "metadata": {},
   "outputs": [],
   "source": [
    "the inefficiency in bubble sort comes from the fact that we are shifting elements by at most one position at a time."
   ]
  },
  {
   "cell_type": "markdown",
   "id": "d8dfefe9",
   "metadata": {},
   "source": [
    "insertion sort."
   ]
  }
 ],
 "metadata": {
  "kernelspec": {
   "display_name": "Python 3 (ipykernel)",
   "language": "python",
   "name": "python3"
  },
  "language_info": {
   "codemirror_mode": {
    "name": "ipython",
    "version": 3
   },
   "file_extension": ".py",
   "mimetype": "text/x-python",
   "name": "python",
   "nbconvert_exporter": "python",
   "pygments_lexer": "ipython3",
   "version": "3.9.7"
  }
 },
 "nbformat": 4,
 "nbformat_minor": 5
}
