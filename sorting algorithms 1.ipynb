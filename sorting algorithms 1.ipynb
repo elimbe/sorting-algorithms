{
 "cells": [
  {
   "cell_type": "markdown",
   "id": "9045ed6f",
   "metadata": {},
   "source": [
    "you are working on a new feature on jovian called\" top notebooks of the week\". Write a function to sort a list of notebooks in decreasing order of likes. keep in mind, upto millions aof noteboos can be created in a week,so your function needs to be as efficient as possible."
   ]
  },
  {
   "cell_type": "markdown",
   "id": "84a5db33",
   "metadata": {},
   "source": [
    "the problem of sorting comes up over and over in computer science and software development. and its important to understand common approaches for sorting and the trade offs they offer. "
   ]
  },
  {
   "cell_type": "code",
   "execution_count": null,
   "id": "d5cdc6bc",
   "metadata": {},
   "outputs": [],
   "source": [
    "write a program to sort a list of numbers"
   ]
  },
  {
   "cell_type": "raw",
   "id": "fcc4a46e",
   "metadata": {},
   "source": [
    "sorting usually reffers to sorting in asscending order unless specified otherwise."
   ]
  },
  {
   "cell_type": "markdown",
   "id": "4c69772d",
   "metadata": {},
   "source": [
    "the strtegy for solving the problem \n",
    "1. state the problem clearly. identify the inputs and the outputs.\n",
    "2. come up with sme example inputs and outputs. Try to cover all the edge cases.\n",
    "3. come up with a correct sollution to the problem. State in plain english.\n",
    "4. implement the solution and test it using example inputs. Fix bugs, if any.\n",
    "5. analyse the algorithm complexitiies and identify inefficiencies, if any.\n",
    "6. apply the right technique to overcome the ineffiency."
   ]
  },
  {
   "cell_type": "code",
   "execution_count": null,
   "id": "44c06c68",
   "metadata": {},
   "outputs": [],
   "source": [
    "def sort(nums):\n",
    "    pass"
   ]
  },
  {
   "cell_type": "code",
   "execution_count": null,
   "id": "94067437",
   "metadata": {},
   "outputs": [],
   "source": [
    "here are some scenarios we'd want to test out.\n",
    "1. some lists of numbers in random order.\n",
    "2. a list that is already sorted.\n",
    "3. a list that is sorted in descending order.\n",
    "4. a list containing repeating elements.\n",
    "5. a empty list.\n",
    "6. a list comtainng just one element.\n",
    "7. a list containing one element repeated many times.\n",
    "8. a really long list."
   ]
  },
  {
   "cell_type": "code",
   "execution_count": 1,
   "id": "272f2c1b",
   "metadata": {},
   "outputs": [],
   "source": [
    "#list of numbers in randoom order.\n",
    "test0={\n",
    "    'input':{\n",
    "        'nums':[4,2,6,3,4,6,2,1]\n",
    "    },\n",
    "    'output':[1,2,2,3,4,4,6,6]\n",
    "}"
   ]
  },
  {
   "cell_type": "code",
   "execution_count": 2,
   "id": "c4b08e75",
   "metadata": {},
   "outputs": [],
   "source": [
    "#list numbers in random order including negatives\n",
    "test1={\n",
    "    'input':{\n",
    "        'nums':[9,45,-90,-34,98,1,4]\n",
    "},\n",
    "    'output':[-90,-34,1,4,9,45,98]\n",
    "}"
   ]
  },
  {
   "cell_type": "code",
   "execution_count": 5,
   "id": "17e7dff3",
   "metadata": {},
   "outputs": [],
   "source": [
    "#a list that is already sorted\n",
    "test2={\n",
    "    'input':{\n",
    "        'nums':[3,6,17,29,89,253]\n",
    "    },\n",
    "    'output':[3,6,17,29,89,253]\n",
    "}"
   ]
  },
  {
   "cell_type": "code",
   "execution_count": 6,
   "id": "a3ac8a4e",
   "metadata": {},
   "outputs": [],
   "source": [
    " #a list in descending order\n",
    "test3={\n",
    "        'input':{\n",
    "            'nums':[389,67,43,9,6,-7,-45]\n",
    "        },\n",
    "        'output':[-45,-7,6,9,43,67,389]\n",
    "    }"
   ]
  },
  {
   "cell_type": "code",
   "execution_count": 7,
   "id": "d54090f9",
   "metadata": {},
   "outputs": [],
   "source": [
    "#a list contsining repeating elements\n",
    "test4={\n",
    "    'input':{\n",
    "        'nums':[2,2,4,4,5,5,3,7,-7,3]\n",
    "    },\n",
    "    'output':[-7,2,2,3,4,4,5,5,7]\n",
    "}"
   ]
  },
  {
   "cell_type": "code",
   "execution_count": 8,
   "id": "d870c722",
   "metadata": {},
   "outputs": [],
   "source": [
    "test5={\n",
    "    'input':{\n",
    "        'nums':[]\n",
    "    },\n",
    "    'output':[]\n",
    "}"
   ]
  },
  {
   "cell_type": "code",
   "execution_count": 9,
   "id": "c67ea037",
   "metadata": {},
   "outputs": [],
   "source": [
    "test6={\n",
    "    'input':{\n",
    "        'nums':[23]\n",
    "    },\n",
    "    'output':[23]\n",
    "}"
   ]
  },
  {
   "cell_type": "markdown",
   "id": "dd5eec41",
   "metadata": {},
   "source": [
    "tocreate the final test case,(a really long list) we can start with a sorted list created using range and shuffle it ti create the input."
   ]
  },
  {
   "cell_type": "code",
   "execution_count": 10,
   "id": "47deb971",
   "metadata": {},
   "outputs": [
    {
     "data": {
      "text/plain": [
       "range(0, 10)"
      ]
     },
     "execution_count": 10,
     "metadata": {},
     "output_type": "execute_result"
    }
   ],
   "source": [
    "range(10)"
   ]
  },
  {
   "cell_type": "code",
   "execution_count": 11,
   "id": "8d666938",
   "metadata": {},
   "outputs": [
    {
     "data": {
      "text/plain": [
       "[0, 1, 2, 3, 4, 5, 6, 7, 8, 9]"
      ]
     },
     "execution_count": 11,
     "metadata": {},
     "output_type": "execute_result"
    }
   ],
   "source": [
    "list(range(10))"
   ]
  },
  {
   "cell_type": "code",
   "execution_count": null,
   "id": "f8dc0eef",
   "metadata": {},
   "outputs": [],
   "source": [
    "import random\n",
    "in_list=list(range(100))\n",
    "out_list=list(range(100))\n",
    "random.shuffle(in_list)\n",
    "test8={\n",
    "    'input':{\n",
    "        'nums':in_list\n",
    "    },\n",
    "    'output':out_list\n",
    "}"
   ]
  },
  {
   "cell_type": "code",
   "execution_count": null,
   "id": "ca63efb0",
   "metadata": {},
   "outputs": [],
   "source": [
    "in_list[10:20]"
   ]
  },
  {
   "cell_type": "code",
   "execution_count": 23,
   "id": "f8ecbd86",
   "metadata": {},
   "outputs": [],
   "source": [
    "tests=[test0,test1,test2,test3,test4,test5,test6,test8]"
   ]
  },
  {
   "cell_type": "code",
   "execution_count": 31,
   "id": "0608b89c",
   "metadata": {},
   "outputs": [],
   "source": [
    "def bubble_sort(nums):\n",
    "    #create a copy of the list to avoid changing it.\n",
    "    nums=list(nums)\n",
    "    for j in range(len(nums)-1):\n",
    "    #repeatthe process n-1 times\n",
    "        for i in range(len(nums)-1):\n",
    "             if nums[i]>nums[i+1]:\n",
    "            #swap the two elements\n",
    "                 nums[i],nums[i+1]=nums[i+1],nums[i]\n",
    "    #return the sorted list\n",
    "    return nums"
   ]
  },
  {
   "cell_type": "code",
   "execution_count": 36,
   "id": "ae07c9b6",
   "metadata": {},
   "outputs": [
    {
     "name": "stdout",
     "output_type": "stream",
     "text": [
      "input [4, 2, 6, 3, 4, 6, 2, 1]\n",
      "expected output [1, 2, 2, 3, 4, 4, 6, 6]\n",
      "Actual output [1, 2, 2, 3, 4, 4, 6, 6]\n",
      "match: True\n"
     ]
    }
   ],
   "source": [
    "nums0,output0=test0['input']['nums'],test0['output']\n",
    "print('input',nums0)\n",
    "print('expected output',output0)\n",
    "result0=bubble_sort(nums0)\n",
    "print('Actual output',result0)\n",
    "print('match:',result0==output0)"
   ]
  },
  {
   "cell_type": "code",
   "execution_count": 38,
   "id": "58ebf398",
   "metadata": {},
   "outputs": [
    {
     "name": "stdout",
     "output_type": "stream",
     "text": [
      "input [9, 45, -90, -34, 98, 1, 4]\n",
      "expected output [-90, -34, 1, 4, 9, 45, 98]\n",
      "Actual output [-90, -34, 1, 4, 9, 45, 98]\n",
      "match: True\n"
     ]
    }
   ],
   "source": [
    "nums1,output1=test1['input']['nums'],test1['output']\n",
    "print('input',nums1)\n",
    "print('expected output',output1)\n",
    "result1=bubble_sort(nums1)\n",
    "print('Actual output',result1)\n",
    "print('match:',result1==output1)"
   ]
  },
  {
   "cell_type": "code",
   "execution_count": null,
   "id": "7656e1ed",
   "metadata": {},
   "outputs": [],
   "source": [
    "nums8,output8=test8['input']['nums'],test8['output']\n",
    "#print('input',nums8)\n",
    "#print('expected output',output8)\n",
    "result8=bubble_sort(nums8)\n",
    "#print('Actual output',result8)\n",
    "print('match:',result8==output8)"
   ]
  },
  {
   "cell_type": "code",
   "execution_count": null,
   "id": "7d338296",
   "metadata": {},
   "outputs": [],
   "source": []
  }
 ],
 "metadata": {
  "kernelspec": {
   "display_name": "Python 3 (ipykernel)",
   "language": "python",
   "name": "python3"
  },
  "language_info": {
   "codemirror_mode": {
    "name": "ipython",
    "version": 3
   },
   "file_extension": ".py",
   "mimetype": "text/x-python",
   "name": "python",
   "nbconvert_exporter": "python",
   "pygments_lexer": "ipython3",
   "version": "3.9.7"
  }
 },
 "nbformat": 4,
 "nbformat_minor": 5
}
